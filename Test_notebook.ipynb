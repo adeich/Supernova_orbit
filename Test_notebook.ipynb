{
 "cells": [
  {
   "cell_type": "code",
   "execution_count": 20,
   "metadata": {
    "collapsed": false
   },
   "outputs": [
    {
     "name": "stdout",
     "output_type": "stream",
     "text": [
      "100 steps took 0.0318338871002 seconds\n"
     ]
    }
   ],
   "source": [
    "import orbit_calculations as oc\n",
    "reload(orbit_calculations)\n",
    "\n",
    "a = oc.get_SI('aEarthSun')\n",
    "e = oc.get_SI('eEarth')\n",
    "mEarth = oc.get_SI('mEarth')\n",
    "MSun = oc.get_SI('mSun')\n",
    "\n",
    "y_out = oc.generate_orbit_pos_vel(a, e, m1=MSun, m2=mEarth, circum_steps=100, debug=True)"
   ]
  },
  {
   "cell_type": "code",
   "execution_count": 7,
   "metadata": {
    "collapsed": false
   },
   "outputs": [
    {
     "name": "stdout",
     "output_type": "stream",
     "text": [
      "original took 0.754693984985 sec for 1000000.0 steps\n"
     ]
    },
    {
     "data": {
      "image/png": "[encoded data removed]",
      "text/plain": [
       "<matplotlib.figure.Figure at 0x1123cf790>"
      ]
     },
     "metadata": {},
     "output_type": "display_data"
    }
   ],
   "source": [
    "import numpy as np\n",
    "import matplotlib.pyplot as plt\n",
    "from scipy.integrate import odeint\n",
    "from time import time\n",
    "\n",
    "def dr_dt(y, t):\n",
    "    \"\"\"Integration of the governing vector differential equation.\n",
    "    d2r_dt2 = -(mu/R^3)*r with d2r_dt2 and r as vecotrs.\n",
    "    Initial position and velocity are given.\n",
    "    y[0:2] = position components\n",
    "    y[3:] = velocity components\"\"\"\n",
    "\n",
    "    G = 6.672*(10**-11)\n",
    "    M = 5.972*(10**24)\n",
    "    Gm = G*M\n",
    "    r = np.sqrt(y[0]**2 + y[1]**2 + y[2]**2)\n",
    "\n",
    "    dy0 = y[3]\n",
    "    dy1 = y[4]\n",
    "    dy2 = y[5]\n",
    "    dy3 = -(Gm / (r**3)) * y[0]\n",
    "    dy4 = -(Gm / (r**3)) * y[1]\n",
    "    dy5 = -(Gm / (r**3)) * y[2]\n",
    "    return [dy0, dy1, dy2, dy3, dy4, dy5]\n",
    "\n",
    "t_final = 10**5 # seconds\n",
    "dt = 0.1 # seconds\n",
    "\n",
    "t = np.arange(0, t_final, dt)\n",
    "y0 = [7.e6, 0., 0., 0., 1.e3, 0.]\n",
    "\n",
    "start = time()\n",
    "y = odeint(dr_dt, y0, t)\n",
    "print('original took {} sec for {} steps'.format(time() - start, t_final / dt))\n",
    "plt.plot(y[:,0], y[:,1])\n",
    "plt.show()"
   ]
  }
 ],
 "metadata": {
  "kernelspec": {
   "display_name": "Python 2",
   "language": "python",
   "name": "python2"
  },
  "language_info": {
   "codemirror_mode": {
    "name": "ipython",
    "version": 2
   },
   "file_extension": ".py",
   "mimetype": "text/x-python",
   "name": "python",
   "nbconvert_exporter": "python",
   "pygments_lexer": "ipython2",
   "version": "2.7.13"
  }
 },
 "nbformat": 4,
 "nbformat_minor": 2
}
