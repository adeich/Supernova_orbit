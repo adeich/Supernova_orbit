{
 "cells": [
  {
   "cell_type": "code",
   "execution_count": 94,
   "metadata": {
    "collapsed": false
   },
   "outputs": [
    {
     "name": "stdout",
     "output_type": "stream",
     "text": [
      "5000 steps took 0.024178981781 seconds\n",
      "E: -2.6413867e+33\n",
      "v0_vec: [     0.          29747.08929167      0.        ]\n",
      "M: 1.99e+30\n",
      "T: 31683025.7521\n",
      "r0_vec: [  1.50000000e+11   0.00000000e+00   0.00000000e+00]\n",
      "(5000, 6)\n",
      "[[  1.50000000e+11   0.00000000e+00   0.00000000e+00   0.00000000e+00\n",
      "    2.97470893e+04   0.00000000e+00]\n",
      " [  1.44606170e+11   1.86234741e+08   0.00000000e+00  -1.72310135e+06\n",
      "    2.86375193e+04   0.00000000e+00]\n",
      " [  1.27552210e+11   3.56820466e+08   0.00000000e+00  -3.74280697e+06\n",
      "    2.45119453e+04   0.00000000e+00]\n",
      " [  9.51613550e+10   4.81718769e+08   0.00000000e+00  -6.77274587e+06\n",
      "    1.26049453e+04   0.00000000e+00]\n",
      " [  2.97822413e+10   3.99016833e+08   0.00000000e+00  -1.79238912e+07\n",
      "   -9.03180012e+04   0.00000000e+00]]\n"
     ]
    },
    {
     "data": {
      "text/plain": [
       "<matplotlib.text.Text at 0x1169a7b90>"
      ]
     },
     "execution_count": 94,
     "metadata": {},
     "output_type": "execute_result"
    },
    {
     "data": {
      "image/png": "[encoded data removed]",
      "text/plain": [
       "<matplotlib.figure.Figure at 0x115fa4a50>"
      ]
     },
     "metadata": {},
     "output_type": "display_data"
    }
   ],
   "source": [
    "import orbit_calculations as oc\n",
    "reload(orbit_calculations)\n",
    "\n",
    "%matplotlib inline\n",
    "\n",
    "a = oc.get_SI('aEarthSun')\n",
    "e = oc.get_SI('eEarth')\n",
    "mEarth = oc.get_SI('mEarth')\n",
    "MSun = oc.get_SI('mSun')\n",
    "G = oc.get_SI('G')\n",
    "mu = (mEarth * MSun) / (mEarth + MSun)\n",
    "\n",
    "y_out = oc.generate_orbit_pos_vel(a, e=0, m1=MSun, m2=mEarth, circum_steps=5000)\n",
    "\n",
    "\n",
    "plt.fig1 = plt.figure(figsize=(9,9))\n",
    "\n",
    "print(y_out.shape)\n",
    "print(y_out[0:5])\n",
    "plt.scatter(y_out[:,0], y_out[:,1])\n",
    "plt.axes().set_aspect('equal', 'datalim')\n",
    "plt.ylabel('y'); plt.xlabel('x')\n",
    "\n"
   ]
  },
  {
   "cell_type": "code",
   "execution_count": 90,
   "metadata": {
    "collapsed": false
   },
   "outputs": [
    {
     "name": "stdout",
     "output_type": "stream",
     "text": [
      "original took 0.551054000854 sec for 100 steps\n"
     ]
    },
    {
     "data": {
      "image/png": "[encoded data removed]",
      "text/plain": [
       "<matplotlib.figure.Figure at 0x1214ddad0>"
      ]
     },
     "metadata": {},
     "output_type": "display_data"
    },
    {
     "name": "stdout",
     "output_type": "stream",
     "text": [
      "[[  7.00000000e+06   0.00000000e+00   0.00000000e+00   0.00000000e+00\n",
      "    1.00000000e+03   0.00000000e+00]\n",
      " [  1.29344903e+06   5.19031758e+05   0.00000000e+00  -2.11983445e+04\n",
      "   -3.09452845e+03   0.00000000e+00]\n",
      " [  6.96808840e+06  -8.83973920e+04   0.00000000e+00   7.22075957e+02\n",
      "    9.95418837e+02   0.00000000e+00]\n",
      " [  2.73108848e+06   6.44413084e+05   0.00000000e+00  -1.30719637e+04\n",
      "   -5.21311824e+02   0.00000000e+00]\n",
      " [  6.87176281e+06  -1.75975831e+05   0.00000000e+00   1.45725074e+03\n",
      "    9.81342271e+02   0.00000000e+00]]\n"
     ]
    }
   ],
   "source": [
    "def dY_dt(y_now, t):\n",
    "    y_next = np.zeros(6)  #  x, y, z, vx, vy, vz\n",
    "    y_next[:3] = y_now[3:]    #  dx/dt = v\n",
    "    one_over_r_cubed = ((y_next[:3]**2).sum())**-1.5\n",
    "    y_next[3:] = - Gm * y_now[:3] * one_over_r_cubed\n",
    "    return y_next\n",
    "\n",
    "t_final = 10**5 # seconds\n",
    "dt = 1000 # seconds\n",
    "\n",
    "t = np.arange(0, t_final, dt)\n",
    "#y0 = np.array([])\n",
    "y0 = np.array([7.e6, 0., 0., 0., 1.e3, 0.])\n",
    "\n",
    "start = time()\n",
    "y = odeint(dr_dt, y0, t)\n",
    "print('original took {} sec for {} steps'.format(time() - start, t_final / dt))\n",
    "plt.scatter(y[:,0], y[:,1])\n",
    "plt.show()\n",
    "\n",
    "print(y[0:5])"
   ]
  },
  {
   "cell_type": "code",
   "execution_count": 69,
   "metadata": {
    "collapsed": false
   },
   "outputs": [
    {
     "name": "stdout",
     "output_type": "stream",
     "text": [
      "[[ 0.  0.  0.  0.  0.]\n",
      " [ 1.  2.  3.  4.  5.]\n",
      " [ 0.  0.  0.  0.  0.]\n",
      " [ 0.  0.  0.  0.  0.]\n",
      " [ 0.  0.  0.  0.  0.]\n",
      " [ 0.  0.  0.  0.  0.]\n",
      " [ 0.  0.  0.  0.  0.]\n",
      " [ 0.  0.  0.  0.  0.]\n",
      " [ 0.  0.  0.  0.  0.]\n",
      " [ 0.  0.  0.  0.  0.]]\n"
     ]
    }
   ],
   "source": [
    "a = np.array([1,2])\n",
    "b = np.array([3, 4])\n",
    "c = np.array([5])\n",
    "\n",
    "d = np.zeros([10, 5])\n",
    "d[1] = np.concatenate([a,b,c])\n",
    "print(d)"
   ]
  }
 ],
 "metadata": {
  "kernelspec": {
   "display_name": "Python 2",
   "language": "python",
   "name": "python2"
  },
  "language_info": {
   "codemirror_mode": {
    "name": "ipython",
    "version": 2
   },
   "file_extension": ".py",
   "mimetype": "text/x-python",
   "name": "python",
   "nbconvert_exporter": "python",
   "pygments_lexer": "ipython2",
   "version": "2.7.13"
  }
 },
 "nbformat": 4,
 "nbformat_minor": 2
}
